{
 "cells": [
  {
   "cell_type": "markdown",
   "id": "c64641c0",
   "metadata": {},
   "source": [
    "# Open Api 상권 정보"
   ]
  },
  {
   "cell_type": "code",
   "execution_count": 7,
   "id": "319946a2",
   "metadata": {},
   "outputs": [
    {
     "ename": "SyntaxError",
     "evalue": "':' expected after dictionary key (897618688.py, line 10)",
     "output_type": "error",
     "traceback": [
      "\u001b[1;36m  Cell \u001b[1;32mIn[7], line 10\u001b[1;36m\u001b[0m\n\u001b[1;33m    params ={'serviceKey' : 'E241JwGDBlWU%2FODcDpeLlioKso2%2B6UmZDG7VlUaud2oS2XRIu7BOg%2BUetlydPFtcfDuJ02YDvC5F7ZjSynRfEA%3D%3D','resId' : 'dong', 'catId' : 'mega', 'ctprvnCd' : '11', 'signguCd' : '11740',type 'xml' }\u001b[0m\n\u001b[1;37m                                                                                                                                                                                                                ^\u001b[0m\n\u001b[1;31mSyntaxError\u001b[0m\u001b[1;31m:\u001b[0m ':' expected after dictionary key\n"
     ]
    }
   ],
   "source": [
    "# Python3 샘플 코드 #\n",
    "\n",
    "\n",
    "import requests\n",
    "\n",
    "url = 'http://apis.data.go.kr/B553077/api/open/sdsc2/baroApi'\n",
    "#service_key = 'E241JwGDBlWU%2FODcDpeLlioKso2%2B6UmZDG7VlUaud2oS2XRIu7BOg%2BUetlydPFtcfDuJ02YDvC5F7ZjSynRfEA%3D%3D/E241JwGDBlWU/ODcDpeLlioKso2+6UmZDG7VlUaud2oS2XRIu7BOg+UetlydPFtcfDuJ02YDvC5F7ZjSynRfEA=='\n",
    "service_key = 'E241JwGDBlWU%2FODcDpeLlioKso2%2B6UmZDG7VlUaud2oS2XRIu7BOg%2BUetlydPFtcfDuJ02YDvC5F7ZjSynRfEA%3D%3D'\n",
    "#params ={'serviceKey' : 'E241JwGDBlWU%2FODcDpeLlioKso2%2B6UmZDG7VlUaud2oS2XRIu7BOg%2BUetlydPFtcfDuJ02YDvC5F7ZjSynRfEA%3D%3D' , 'key' : '9174', 'type' : 'xml' }\n",
    "params ={'serviceKey' : 'E241JwGDBlWU%2FODcDpeLlioKso2%2B6UmZDG7VlUaud2oS2XRIu7BOg%2BUetlydPFtcfDuJ02YDvC5F7ZjSynRfEA%3D%3D','resId' : 'dong', 'catId' : 'mega', 'ctprvnCd' : '11', 'signguCd' : '11740',type 'xml' }\n",
    "response = requests.get(url, params=params)\n",
    "print(response.content)\n"
   ]
  },
  {
   "cell_type": "code",
   "execution_count": 2,
   "id": "036bde1a",
   "metadata": {},
   "outputs": [
    {
     "name": "stdout",
     "output_type": "stream",
     "text": [
      "http://apis.data.go.kr/B553077/api/open/sdsc2/storeZoneInRadius?ServiceKey=E241JwGDBlWU%2FODcDpeLlioKso2%2B6UmZDG7VlUaud2oS2XRIu7BOg%2BUetlydPFtcfDuJ02YDvC5F7ZjSynRfEA%3D%3D&type=json&resId=storezone&key=9174\n",
      "b'<OpenAPI_ServiceResponse>\\n\\t<cmmMsgHeader>\\n\\t\\t<errMsg>SERVICE ERROR</errMsg>\\n\\t\\t<returnAuthMsg>SERVICE_KEY_IS_NOT_REGISTERED_ERROR</returnAuthMsg>\\n\\t\\t<returnReasonCode>30</returnReasonCode>\\n\\t</cmmMsgHeader>\\n</OpenAPI_ServiceResponse>'\n"
     ]
    },
    {
     "ename": "JSONDecodeError",
     "evalue": "Expecting value: line 1 column 1 (char 0)",
     "output_type": "error",
     "traceback": [
      "\u001b[1;31m---------------------------------------------------------------------------\u001b[0m",
      "\u001b[1;31mJSONDecodeError\u001b[0m                           Traceback (most recent call last)",
      "Cell \u001b[1;32mIn[2], line 27\u001b[0m\n\u001b[0;32m     25\u001b[0m response_body \u001b[38;5;241m=\u001b[39m urlopen(request)\u001b[38;5;241m.\u001b[39mread()\n\u001b[0;32m     26\u001b[0m \u001b[38;5;28mprint\u001b[39m (response_body)\n\u001b[1;32m---> 27\u001b[0m response_dict \u001b[38;5;241m=\u001b[39m \u001b[43mjson\u001b[49m\u001b[38;5;241;43m.\u001b[39;49m\u001b[43mloads\u001b[49m\u001b[43m(\u001b[49m\u001b[43mresponse_body\u001b[49m\u001b[38;5;241;43m.\u001b[39;49m\u001b[43mdecode\u001b[49m\u001b[43m(\u001b[49m\u001b[38;5;124;43m'\u001b[39;49m\u001b[38;5;124;43mutf-8\u001b[39;49m\u001b[38;5;124;43m'\u001b[39;49m\u001b[43m)\u001b[49m\u001b[43m)\u001b[49m\n\u001b[0;32m     28\u001b[0m items \u001b[38;5;241m=\u001b[39m response_dict[\u001b[38;5;124m'\u001b[39m\u001b[38;5;124mbody\u001b[39m\u001b[38;5;124m'\u001b[39m][\u001b[38;5;124m'\u001b[39m\u001b[38;5;124mitems\u001b[39m\u001b[38;5;124m'\u001b[39m]\n\u001b[0;32m     30\u001b[0m df \u001b[38;5;241m=\u001b[39m pd\u001b[38;5;241m.\u001b[39mDataFrame(items)\n",
      "File \u001b[1;32m~\\anaconda3\\lib\\json\\__init__.py:346\u001b[0m, in \u001b[0;36mloads\u001b[1;34m(s, cls, object_hook, parse_float, parse_int, parse_constant, object_pairs_hook, **kw)\u001b[0m\n\u001b[0;32m    341\u001b[0m     s \u001b[38;5;241m=\u001b[39m s\u001b[38;5;241m.\u001b[39mdecode(detect_encoding(s), \u001b[38;5;124m'\u001b[39m\u001b[38;5;124msurrogatepass\u001b[39m\u001b[38;5;124m'\u001b[39m)\n\u001b[0;32m    343\u001b[0m \u001b[38;5;28;01mif\u001b[39;00m (\u001b[38;5;28mcls\u001b[39m \u001b[38;5;129;01mis\u001b[39;00m \u001b[38;5;28;01mNone\u001b[39;00m \u001b[38;5;129;01mand\u001b[39;00m object_hook \u001b[38;5;129;01mis\u001b[39;00m \u001b[38;5;28;01mNone\u001b[39;00m \u001b[38;5;129;01mand\u001b[39;00m\n\u001b[0;32m    344\u001b[0m         parse_int \u001b[38;5;129;01mis\u001b[39;00m \u001b[38;5;28;01mNone\u001b[39;00m \u001b[38;5;129;01mand\u001b[39;00m parse_float \u001b[38;5;129;01mis\u001b[39;00m \u001b[38;5;28;01mNone\u001b[39;00m \u001b[38;5;129;01mand\u001b[39;00m\n\u001b[0;32m    345\u001b[0m         parse_constant \u001b[38;5;129;01mis\u001b[39;00m \u001b[38;5;28;01mNone\u001b[39;00m \u001b[38;5;129;01mand\u001b[39;00m object_pairs_hook \u001b[38;5;129;01mis\u001b[39;00m \u001b[38;5;28;01mNone\u001b[39;00m \u001b[38;5;129;01mand\u001b[39;00m \u001b[38;5;129;01mnot\u001b[39;00m kw):\n\u001b[1;32m--> 346\u001b[0m     \u001b[38;5;28;01mreturn\u001b[39;00m \u001b[43m_default_decoder\u001b[49m\u001b[38;5;241;43m.\u001b[39;49m\u001b[43mdecode\u001b[49m\u001b[43m(\u001b[49m\u001b[43ms\u001b[49m\u001b[43m)\u001b[49m\n\u001b[0;32m    347\u001b[0m \u001b[38;5;28;01mif\u001b[39;00m \u001b[38;5;28mcls\u001b[39m \u001b[38;5;129;01mis\u001b[39;00m \u001b[38;5;28;01mNone\u001b[39;00m:\n\u001b[0;32m    348\u001b[0m     \u001b[38;5;28mcls\u001b[39m \u001b[38;5;241m=\u001b[39m JSONDecoder\n",
      "File \u001b[1;32m~\\anaconda3\\lib\\json\\decoder.py:337\u001b[0m, in \u001b[0;36mJSONDecoder.decode\u001b[1;34m(self, s, _w)\u001b[0m\n\u001b[0;32m    332\u001b[0m \u001b[38;5;28;01mdef\u001b[39;00m \u001b[38;5;21mdecode\u001b[39m(\u001b[38;5;28mself\u001b[39m, s, _w\u001b[38;5;241m=\u001b[39mWHITESPACE\u001b[38;5;241m.\u001b[39mmatch):\n\u001b[0;32m    333\u001b[0m     \u001b[38;5;124;03m\"\"\"Return the Python representation of ``s`` (a ``str`` instance\u001b[39;00m\n\u001b[0;32m    334\u001b[0m \u001b[38;5;124;03m    containing a JSON document).\u001b[39;00m\n\u001b[0;32m    335\u001b[0m \n\u001b[0;32m    336\u001b[0m \u001b[38;5;124;03m    \"\"\"\u001b[39;00m\n\u001b[1;32m--> 337\u001b[0m     obj, end \u001b[38;5;241m=\u001b[39m \u001b[38;5;28;43mself\u001b[39;49m\u001b[38;5;241;43m.\u001b[39;49m\u001b[43mraw_decode\u001b[49m\u001b[43m(\u001b[49m\u001b[43ms\u001b[49m\u001b[43m,\u001b[49m\u001b[43m \u001b[49m\u001b[43midx\u001b[49m\u001b[38;5;241;43m=\u001b[39;49m\u001b[43m_w\u001b[49m\u001b[43m(\u001b[49m\u001b[43ms\u001b[49m\u001b[43m,\u001b[49m\u001b[43m \u001b[49m\u001b[38;5;241;43m0\u001b[39;49m\u001b[43m)\u001b[49m\u001b[38;5;241;43m.\u001b[39;49m\u001b[43mend\u001b[49m\u001b[43m(\u001b[49m\u001b[43m)\u001b[49m\u001b[43m)\u001b[49m\n\u001b[0;32m    338\u001b[0m     end \u001b[38;5;241m=\u001b[39m _w(s, end)\u001b[38;5;241m.\u001b[39mend()\n\u001b[0;32m    339\u001b[0m     \u001b[38;5;28;01mif\u001b[39;00m end \u001b[38;5;241m!=\u001b[39m \u001b[38;5;28mlen\u001b[39m(s):\n",
      "File \u001b[1;32m~\\anaconda3\\lib\\json\\decoder.py:355\u001b[0m, in \u001b[0;36mJSONDecoder.raw_decode\u001b[1;34m(self, s, idx)\u001b[0m\n\u001b[0;32m    353\u001b[0m     obj, end \u001b[38;5;241m=\u001b[39m \u001b[38;5;28mself\u001b[39m\u001b[38;5;241m.\u001b[39mscan_once(s, idx)\n\u001b[0;32m    354\u001b[0m \u001b[38;5;28;01mexcept\u001b[39;00m \u001b[38;5;167;01mStopIteration\u001b[39;00m \u001b[38;5;28;01mas\u001b[39;00m err:\n\u001b[1;32m--> 355\u001b[0m     \u001b[38;5;28;01mraise\u001b[39;00m JSONDecodeError(\u001b[38;5;124m\"\u001b[39m\u001b[38;5;124mExpecting value\u001b[39m\u001b[38;5;124m\"\u001b[39m, s, err\u001b[38;5;241m.\u001b[39mvalue) \u001b[38;5;28;01mfrom\u001b[39;00m \u001b[38;5;28mNone\u001b[39m\n\u001b[0;32m    356\u001b[0m \u001b[38;5;28;01mreturn\u001b[39;00m obj, end\n",
      "\u001b[1;31mJSONDecodeError\u001b[0m: Expecting value: line 1 column 1 (char 0)"
     ]
    }
   ],
   "source": [
    "from urllib.request import Request, urlopen    #   \n",
    "from urllib.parse import urlencode, quote_plus\n",
    "import pandas as pd\n",
    "import json\n",
    "\n",
    "\n",
    "skey = 'E241JwGDBlWU%2FODcDpeLlioKso2%2B6UmZDG7VlUaud2oS2XRIu7BOg%2BUetlydPFtcfDuJ02YDvC5F7ZjSynRfEA%3D%3D'\n",
    "#url = 'http://apis.data.go.kr/B553077/api/open/sdsc/baroApi?resId=storezone&key=573&ServiceKey=서비스인증키'\n",
    "res_id = 'storezone'\n",
    "stype ='json'\n",
    "\n",
    "\n",
    "url = 'http://apis.data.go.kr/B553077/api/open/sdsc2/baroApi'\n",
    "#url = 'http://apis.data.go.kr/B553077/api/open/sdsc2/storeZoneOne'\n",
    "#url = 'http://apis.data.go.kr/B553077/api/open/sdsc2/storeZoneInRadius'\n",
    "#duk_url = 'http://apis.data.go.kr/B553077/api/open/sdsc2/storeZoneOne?key=9174&serviceKey={skey}&type={stype}'\n",
    "params = f'?ServiceKey={skey}&type={stype}&resId={res_id}&' + urlencode({ quote_plus('key') : '9174'})\n",
    "query = url + params\n",
    "print(query)\n",
    "#queryParamas = '?' + urlencode({ quote_plus('ServiceKey') : skey})\n",
    "\n",
    "#request = Request(query)\n",
    "\n",
    "request = Request(duk_url)\n",
    "request.get_method = lambda:'GET'\n",
    "response_body = urlopen(request).read()\n",
    "print (response_body)\n",
    "response_dict = json.loads(response_body.decode('utf-8'))\n",
    "items = response_dict['body']['items']\n",
    "\n",
    "df = pd.DataFrame(items)\n",
    "df\n",
    "\n"
   ]
  },
  {
   "cell_type": "code",
   "execution_count": null,
   "id": "3a7591e3",
   "metadata": {},
   "outputs": [],
   "source": []
  }
 ],
 "metadata": {
  "kernelspec": {
   "display_name": "Python 3 (ipykernel)",
   "language": "python",
   "name": "python3"
  },
  "language_info": {
   "codemirror_mode": {
    "name": "ipython",
    "version": 3
   },
   "file_extension": ".py",
   "mimetype": "text/x-python",
   "name": "python",
   "nbconvert_exporter": "python",
   "pygments_lexer": "ipython3",
   "version": "3.10.9"
  }
 },
 "nbformat": 4,
 "nbformat_minor": 5
}
