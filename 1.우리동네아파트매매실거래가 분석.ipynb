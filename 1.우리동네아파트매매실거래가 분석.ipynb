{
 "cells": [
  {
   "cell_type": "markdown",
   "id": "962e6d6b",
   "metadata": {},
   "source": [
    "# 우리 동네 아파트 매매 실거래가 분석"
   ]
  },
  {
   "cell_type": "code",
   "execution_count": 39,
   "id": "d596d131",
   "metadata": {},
   "outputs": [
    {
     "name": "stdout",
     "output_type": "stream",
     "text": [
      "Requirement already satisfied: PublicDataReader in c:\\users\\userk\\anaconda3\\lib\\site-packages (1.0.21)\n",
      "Requirement already satisfied: beautifulsoup4 in c:\\users\\userk\\anaconda3\\lib\\site-packages (from PublicDataReader) (4.11.1)\n",
      "Requirement already satisfied: requests in c:\\users\\userk\\anaconda3\\lib\\site-packages (from PublicDataReader) (2.28.1)\n",
      "Requirement already satisfied: pandas in c:\\users\\userk\\anaconda3\\lib\\site-packages (from PublicDataReader) (1.5.3)\n",
      "Requirement already satisfied: lxml in c:\\users\\userk\\anaconda3\\lib\\site-packages (from PublicDataReader) (4.9.1)\n",
      "Requirement already satisfied: xmltodict in c:\\users\\userk\\anaconda3\\lib\\site-packages (from PublicDataReader) (0.13.0)\n",
      "Requirement already satisfied: numpy in c:\\users\\userk\\anaconda3\\lib\\site-packages (from PublicDataReader) (1.23.5)\n",
      "Requirement already satisfied: soupsieve>1.2 in c:\\users\\userk\\anaconda3\\lib\\site-packages (from beautifulsoup4->PublicDataReader) (2.3.2.post1)\n",
      "Requirement already satisfied: pytz>=2020.1 in c:\\users\\userk\\anaconda3\\lib\\site-packages (from pandas->PublicDataReader) (2022.7)\n",
      "Requirement already satisfied: python-dateutil>=2.8.1 in c:\\users\\userk\\anaconda3\\lib\\site-packages (from pandas->PublicDataReader) (2.8.2)\n",
      "Requirement already satisfied: urllib3<1.27,>=1.21.1 in c:\\users\\userk\\anaconda3\\lib\\site-packages (from requests->PublicDataReader) (1.26.14)\n",
      "Requirement already satisfied: certifi>=2017.4.17 in c:\\users\\userk\\anaconda3\\lib\\site-packages (from requests->PublicDataReader) (2022.12.7)\n",
      "Requirement already satisfied: charset-normalizer<3,>=2 in c:\\users\\userk\\anaconda3\\lib\\site-packages (from requests->PublicDataReader) (2.0.4)\n",
      "Requirement already satisfied: idna<4,>=2.5 in c:\\users\\userk\\anaconda3\\lib\\site-packages (from requests->PublicDataReader) (3.4)\n",
      "Requirement already satisfied: six>=1.5 in c:\\users\\userk\\anaconda3\\lib\\site-packages (from python-dateutil>=2.8.1->pandas->PublicDataReader) (1.16.0)\n"
     ]
    }
   ],
   "source": [
    "!pip install PublicDataReader"
   ]
  },
  {
   "cell_type": "code",
   "execution_count": 33,
   "id": "22e1007a",
   "metadata": {},
   "outputs": [
    {
     "name": "stdout",
     "output_type": "stream",
     "text": [
      "1.0.21\n"
     ]
    }
   ],
   "source": [
    "import PublicDataReader as pdr\n",
    "print(pdr.__version__)"
   ]
  },
  {
   "cell_type": "code",
   "execution_count": 38,
   "id": "9ea57b4b",
   "metadata": {},
   "outputs": [
    {
     "ename": "AttributeError",
     "evalue": "module 'PublicDataReader' has no attribute 'Transaction'",
     "output_type": "error",
     "traceback": [
      "\u001b[1;31m---------------------------------------------------------------------------\u001b[0m",
      "\u001b[1;31mAttributeError\u001b[0m                            Traceback (most recent call last)",
      "Cell \u001b[1;32mIn[38], line 2\u001b[0m\n\u001b[0;32m      1\u001b[0m service_key \u001b[38;5;241m=\u001b[39m \u001b[38;5;124m\"\u001b[39m\u001b[38;5;124mE241JwGDBlWU\u001b[39m\u001b[38;5;132;01m%2F\u001b[39;00m\u001b[38;5;124mODcDpeLlioKso2\u001b[39m\u001b[38;5;124m%\u001b[39m\u001b[38;5;124m2B6UmZDG7VlUaud2oS2XRIu7BOg\u001b[39m\u001b[38;5;124m%\u001b[39m\u001b[38;5;124m2BUetlydPFtcfDuJ02YDvC5F7ZjSynRfEA\u001b[39m\u001b[38;5;124m%\u001b[39m\u001b[38;5;124m3D\u001b[39m\u001b[38;5;124m%\u001b[39m\u001b[38;5;124m3D/E241JwGDBlWU/ODcDpeLlioKso2+6UmZDG7VlUaud2oS2XRIu7BOg+UetlydPFtcfDuJ02YDvC5F7ZjSynRfEA==\u001b[39m\u001b[38;5;124m\"\u001b[39m\n\u001b[1;32m----> 2\u001b[0m ts \u001b[38;5;241m=\u001b[39m \u001b[43mpdr\u001b[49m\u001b[38;5;241;43m.\u001b[39;49m\u001b[43mTransaction\u001b[49m(service_key, debug\u001b[38;5;241m=\u001b[39m\u001b[38;5;28;01mTrue\u001b[39;00m)\n",
      "\u001b[1;31mAttributeError\u001b[0m: module 'PublicDataReader' has no attribute 'Transaction'"
     ]
    }
   ],
   "source": [
    "service_key = \"E241JwGDBlWU%2FODcDpeLlioKso2%2B6UmZDG7VlUaud2oS2XRIu7BOg%2BUetlydPFtcfDuJ02YDvC5F7ZjSynRfEA%3D%3D/E241JwGDBlWU/ODcDpeLlioKso2+6UmZDG7VlUaud2oS2XRIu7BOg+UetlydPFtcfDuJ02YDvC5F7ZjSynRfEA==\"\n",
    "ts = pdr.Transaction(service_key, debug=True)"
   ]
  },
  {
   "cell_type": "code",
   "execution_count": 37,
   "id": "0226e98c",
   "metadata": {},
   "outputs": [
    {
     "ename": "NameError",
     "evalue": "name 'ts' is not defined",
     "output_type": "error",
     "traceback": [
      "\u001b[1;31m---------------------------------------------------------------------------\u001b[0m",
      "\u001b[1;31mNameError\u001b[0m                                 Traceback (most recent call last)",
      "Cell \u001b[1;32mIn[37], line 6\u001b[0m\n\u001b[0;32m      3\u001b[0m sigunguCode\u001b[38;5;241m=\u001b[39m\u001b[38;5;124m\"\u001b[39m\u001b[38;5;124m41135\u001b[39m\u001b[38;5;124m\"\u001b[39m\n\u001b[0;32m      4\u001b[0m yearMonth\u001b[38;5;241m=\u001b[39m\u001b[38;5;124m\"\u001b[39m\u001b[38;5;124m202210\u001b[39m\u001b[38;5;124m\"\u001b[39m\n\u001b[1;32m----> 6\u001b[0m df \u001b[38;5;241m=\u001b[39m \u001b[43mts\u001b[49m\u001b[38;5;241m.\u001b[39mread_data(prod,trnas,sigunguCode,yearMonth )\n",
      "\u001b[1;31mNameError\u001b[0m: name 'ts' is not defined"
     ]
    }
   ],
   "source": [
    "prod=\"아파트\"\n",
    "trans=\"매매\"\n",
    "sigunguCode=\"41135\"\n",
    "yearMonth=\"202210\"\n",
    "\n",
    "df = ts.read_data(prod,trnas,sigunguCode,yearMonth )"
   ]
  },
  {
   "cell_type": "code",
   "execution_count": null,
   "id": "9ce6849c",
   "metadata": {},
   "outputs": [],
   "source": []
  },
  {
   "cell_type": "code",
   "execution_count": 40,
   "id": "b4a64e08",
   "metadata": {},
   "outputs": [],
   "source": [
    "from PublicDataReader import TransactionPrice\n",
    "service_key = \"E241JwGDBlWU%2FODcDpeLlioKso2%2B6UmZDG7VlUaud2oS2XRIu7BOg%2BUetlydPFtcfDuJ02YDvC5F7ZjSynRfEA%3D%3D/E241JwGDBlWU/ODcDpeLlioKso2+6UmZDG7VlUaud2oS2XRIu7BOg+UetlydPFtcfDuJ02YDvC5F7ZjSynRfEA==\"\n",
    "api = TransactionPrice(service_key)"
   ]
  },
  {
   "cell_type": "code",
   "execution_count": 26,
   "id": "d37799f9",
   "metadata": {},
   "outputs": [
    {
     "name": "stdout",
     "output_type": "stream",
     "text": [
      "출처: 행정기관(행정동) 및 관할구역(법정동) 변경내역(2023. 5. 1. 시행)\n",
      "URL: https://www.mois.go.kr/frt/bbs/type001/commonSelectBoardArticle.do?bbsId=BBSMSTR_000000000052&nttId=100215\n",
      "\n"
     ]
    },
    {
     "data": {
      "text/html": [
       "<div>\n",
       "<style scoped>\n",
       "    .dataframe tbody tr th:only-of-type {\n",
       "        vertical-align: middle;\n",
       "    }\n",
       "\n",
       "    .dataframe tbody tr th {\n",
       "        vertical-align: top;\n",
       "    }\n",
       "\n",
       "    .dataframe thead th {\n",
       "        text-align: right;\n",
       "    }\n",
       "</style>\n",
       "<table border=\"1\" class=\"dataframe\">\n",
       "  <thead>\n",
       "    <tr style=\"text-align: right;\">\n",
       "      <th></th>\n",
       "      <th>시도코드</th>\n",
       "      <th>시도명</th>\n",
       "      <th>시군구코드</th>\n",
       "      <th>시군구명</th>\n",
       "      <th>법정동코드</th>\n",
       "      <th>읍면동명</th>\n",
       "      <th>동리명</th>\n",
       "      <th>생성일자</th>\n",
       "      <th>말소일자</th>\n",
       "    </tr>\n",
       "  </thead>\n",
       "  <tbody>\n",
       "    <tr>\n",
       "      <th>5152</th>\n",
       "      <td>41</td>\n",
       "      <td>경기도</td>\n",
       "      <td>41135</td>\n",
       "      <td>성남시 분당구</td>\n",
       "      <td>4113500000</td>\n",
       "      <td></td>\n",
       "      <td></td>\n",
       "      <td>19910916</td>\n",
       "      <td></td>\n",
       "    </tr>\n",
       "  </tbody>\n",
       "</table>\n",
       "</div>"
      ],
      "text/plain": [
       "     시도코드  시도명  시군구코드     시군구명       법정동코드 읍면동명 동리명      생성일자 말소일자\n",
       "5152   41  경기도  41135  성남시 분당구  4113500000           19910916     "
      ]
     },
     "execution_count": 26,
     "metadata": {},
     "output_type": "execute_result"
    }
   ],
   "source": [
    "import PublicDataReader as pdr\n",
    "sigungu_name = \"분당구\"\n",
    "code = pdr.code_bdong()\n",
    "code.loc[(code['시군구명'].str.contains(sigungu_name)) &\n",
    "         (code['읍면동명']=='')]"
   ]
  },
  {
   "cell_type": "code",
   "execution_count": 41,
   "id": "7f4e7d4e",
   "metadata": {
    "scrolled": false
   },
   "outputs": [
    {
     "ename": "Exception",
     "evalue": "SERVICE KEY IS NOT REGISTERED ERROR.",
     "output_type": "error",
     "traceback": [
      "\u001b[1;31m---------------------------------------------------------------------------\u001b[0m",
      "\u001b[1;31mException\u001b[0m                                 Traceback (most recent call last)",
      "Cell \u001b[1;32mIn[41], line 5\u001b[0m\n\u001b[0;32m      1\u001b[0m \u001b[38;5;66;03m# 부동산 실거래가 조회하기\u001b[39;00m\n\u001b[0;32m      2\u001b[0m \u001b[38;5;66;03m# 특정 년월 자료만 조회하기\u001b[39;00m\n\u001b[0;32m      3\u001b[0m \n\u001b[0;32m      4\u001b[0m \u001b[38;5;66;03m# 단일 월 조회\u001b[39;00m\n\u001b[1;32m----> 5\u001b[0m df \u001b[38;5;241m=\u001b[39m \u001b[43mapi\u001b[49m\u001b[38;5;241;43m.\u001b[39;49m\u001b[43mget_data\u001b[49m\u001b[43m(\u001b[49m\n\u001b[0;32m      6\u001b[0m \u001b[43m    \u001b[49m\u001b[43mproperty_type\u001b[49m\u001b[38;5;241;43m=\u001b[39;49m\u001b[38;5;124;43m\"\u001b[39;49m\u001b[38;5;124;43m아파트\u001b[39;49m\u001b[38;5;124;43m\"\u001b[39;49m\u001b[43m,\u001b[49m\n\u001b[0;32m      7\u001b[0m \u001b[43m    \u001b[49m\u001b[43mtrade_type\u001b[49m\u001b[38;5;241;43m=\u001b[39;49m\u001b[38;5;124;43m\"\u001b[39;49m\u001b[38;5;124;43m매매\u001b[39;49m\u001b[38;5;124;43m\"\u001b[39;49m\u001b[43m,\u001b[49m\n\u001b[0;32m      8\u001b[0m \u001b[43m    \u001b[49m\u001b[43msigungu_code\u001b[49m\u001b[38;5;241;43m=\u001b[39;49m\u001b[38;5;124;43m\"\u001b[39;49m\u001b[38;5;124;43m11650\u001b[39;49m\u001b[38;5;124;43m\"\u001b[39;49m\u001b[43m,\u001b[49m\n\u001b[0;32m      9\u001b[0m \u001b[43m    \u001b[49m\u001b[43myear_month\u001b[49m\u001b[38;5;241;43m=\u001b[39;49m\u001b[38;5;124;43m\"\u001b[39;49m\u001b[38;5;124;43m202212\u001b[39;49m\u001b[38;5;124;43m\"\u001b[39;49m\u001b[43m,\u001b[49m\n\u001b[0;32m     10\u001b[0m \u001b[43m)\u001b[49m\n\u001b[0;32m     11\u001b[0m df\u001b[38;5;241m.\u001b[39mtail()\n",
      "File \u001b[1;32m~\\anaconda3\\lib\\site-packages\\PublicDataReader\\PublicDataPortal\\molit.py:198\u001b[0m, in \u001b[0;36mTransactionPrice.get_data\u001b[1;34m(self, property_type, trade_type, sigungu_code, year_month, start_year_month, end_year_month, verbose, **kwargs)\u001b[0m\n\u001b[0;32m    196\u001b[0m \u001b[38;5;28;01mif\u001b[39;00m res_json[\u001b[38;5;124m'\u001b[39m\u001b[38;5;124mresponse\u001b[39m\u001b[38;5;124m'\u001b[39m][\u001b[38;5;124m'\u001b[39m\u001b[38;5;124mheader\u001b[39m\u001b[38;5;124m'\u001b[39m][\u001b[38;5;124m'\u001b[39m\u001b[38;5;124mresultCode\u001b[39m\u001b[38;5;124m'\u001b[39m] \u001b[38;5;241m!=\u001b[39m \u001b[38;5;124m'\u001b[39m\u001b[38;5;124m00\u001b[39m\u001b[38;5;124m'\u001b[39m:\n\u001b[0;32m    197\u001b[0m     error_message \u001b[38;5;241m=\u001b[39m res_json[\u001b[38;5;124m'\u001b[39m\u001b[38;5;124mresponse\u001b[39m\u001b[38;5;124m'\u001b[39m][\u001b[38;5;124m'\u001b[39m\u001b[38;5;124mheader\u001b[39m\u001b[38;5;124m'\u001b[39m][\u001b[38;5;124m'\u001b[39m\u001b[38;5;124mresultMsg\u001b[39m\u001b[38;5;124m'\u001b[39m]\n\u001b[1;32m--> 198\u001b[0m     \u001b[38;5;28;01mraise\u001b[39;00m \u001b[38;5;167;01mException\u001b[39;00m(error_message)\n\u001b[0;32m    199\u001b[0m items \u001b[38;5;241m=\u001b[39m res_json[\u001b[38;5;124m'\u001b[39m\u001b[38;5;124mresponse\u001b[39m\u001b[38;5;124m'\u001b[39m][\u001b[38;5;124m'\u001b[39m\u001b[38;5;124mbody\u001b[39m\u001b[38;5;124m'\u001b[39m][\u001b[38;5;124m'\u001b[39m\u001b[38;5;124mitems\u001b[39m\u001b[38;5;124m'\u001b[39m]\n\u001b[0;32m    200\u001b[0m \u001b[38;5;28;01mif\u001b[39;00m \u001b[38;5;129;01mnot\u001b[39;00m items:\n",
      "\u001b[1;31mException\u001b[0m: SERVICE KEY IS NOT REGISTERED ERROR."
     ]
    }
   ],
   "source": [
    "\n",
    "# 부동산 실거래가 조회하기\n",
    "# 특정 년월 자료만 조회하기\n",
    "\n",
    "# 단일 월 조회\n",
    "df = api.get_data(\n",
    "    property_type=\"아파트\",\n",
    "    trade_type=\"매매\",\n",
    "    sigungu_code=\"11650\",\n",
    "    year_month=\"202212\",\n",
    ")\n",
    "df.tail()"
   ]
  },
  {
   "cell_type": "code",
   "execution_count": 24,
   "id": "1158a4ef",
   "metadata": {},
   "outputs": [
    {
     "ename": "Exception",
     "evalue": "SERVICE KEY IS NOT REGISTERED ERROR.",
     "output_type": "error",
     "traceback": [
      "\u001b[1;31m---------------------------------------------------------------------------\u001b[0m",
      "\u001b[1;31mException\u001b[0m                                 Traceback (most recent call last)",
      "Cell \u001b[1;32mIn[24], line 2\u001b[0m\n\u001b[0;32m      1\u001b[0m \u001b[38;5;66;03m# 특정 기간 자료 조회하기\u001b[39;00m\n\u001b[1;32m----> 2\u001b[0m df \u001b[38;5;241m=\u001b[39m \u001b[43mapi\u001b[49m\u001b[38;5;241;43m.\u001b[39;49m\u001b[43mget_data\u001b[49m\u001b[43m(\u001b[49m\n\u001b[0;32m      3\u001b[0m \u001b[43m    \u001b[49m\u001b[43mproperty_type\u001b[49m\u001b[38;5;241;43m=\u001b[39;49m\u001b[38;5;124;43m\"\u001b[39;49m\u001b[38;5;124;43m아파트\u001b[39;49m\u001b[38;5;124;43m\"\u001b[39;49m\u001b[43m,\u001b[49m\n\u001b[0;32m      4\u001b[0m \u001b[43m    \u001b[49m\u001b[43mtrade_type\u001b[49m\u001b[38;5;241;43m=\u001b[39;49m\u001b[38;5;124;43m\"\u001b[39;49m\u001b[38;5;124;43m매매\u001b[39;49m\u001b[38;5;124;43m\"\u001b[39;49m\u001b[43m,\u001b[49m\n\u001b[0;32m      5\u001b[0m \u001b[43m    \u001b[49m\u001b[43msigungu_code\u001b[49m\u001b[38;5;241;43m=\u001b[39;49m\u001b[38;5;124;43m\"\u001b[39;49m\u001b[38;5;124;43m41135\u001b[39;49m\u001b[38;5;124;43m\"\u001b[39;49m\u001b[43m,\u001b[49m\n\u001b[0;32m      6\u001b[0m \u001b[43m    \u001b[49m\u001b[43mstart_year_month\u001b[49m\u001b[38;5;241;43m=\u001b[39;49m\u001b[38;5;124;43m\"\u001b[39;49m\u001b[38;5;124;43m202212\u001b[39;49m\u001b[38;5;124;43m\"\u001b[39;49m\u001b[43m,\u001b[49m\n\u001b[0;32m      7\u001b[0m \u001b[43m    \u001b[49m\u001b[43mend_year_month\u001b[49m\u001b[38;5;241;43m=\u001b[39;49m\u001b[38;5;124;43m\"\u001b[39;49m\u001b[38;5;124;43m202301\u001b[39;49m\u001b[38;5;124;43m\"\u001b[39;49m\u001b[43m,\u001b[49m\n\u001b[0;32m      8\u001b[0m \u001b[43m    \u001b[49m\u001b[43m)\u001b[49m\n\u001b[0;32m      9\u001b[0m df\u001b[38;5;241m.\u001b[39mtail()\n",
      "File \u001b[1;32m~\\anaconda3\\lib\\site-packages\\PublicDataReader\\PublicDataPortal\\molit.py:177\u001b[0m, in \u001b[0;36mTransactionPrice.get_data\u001b[1;34m(self, property_type, trade_type, sigungu_code, year_month, start_year_month, end_year_month, verbose, **kwargs)\u001b[0m\n\u001b[0;32m    175\u001b[0m \u001b[38;5;28;01mif\u001b[39;00m res_json[\u001b[38;5;124m'\u001b[39m\u001b[38;5;124mresponse\u001b[39m\u001b[38;5;124m'\u001b[39m][\u001b[38;5;124m'\u001b[39m\u001b[38;5;124mheader\u001b[39m\u001b[38;5;124m'\u001b[39m][\u001b[38;5;124m'\u001b[39m\u001b[38;5;124mresultCode\u001b[39m\u001b[38;5;124m'\u001b[39m] \u001b[38;5;241m!=\u001b[39m \u001b[38;5;124m'\u001b[39m\u001b[38;5;124m00\u001b[39m\u001b[38;5;124m'\u001b[39m:\n\u001b[0;32m    176\u001b[0m     error_message \u001b[38;5;241m=\u001b[39m res_json[\u001b[38;5;124m'\u001b[39m\u001b[38;5;124mresponse\u001b[39m\u001b[38;5;124m'\u001b[39m][\u001b[38;5;124m'\u001b[39m\u001b[38;5;124mheader\u001b[39m\u001b[38;5;124m'\u001b[39m][\u001b[38;5;124m'\u001b[39m\u001b[38;5;124mresultMsg\u001b[39m\u001b[38;5;124m'\u001b[39m]\n\u001b[1;32m--> 177\u001b[0m     \u001b[38;5;28;01mraise\u001b[39;00m \u001b[38;5;167;01mException\u001b[39;00m(error_message)\n\u001b[0;32m    178\u001b[0m items \u001b[38;5;241m=\u001b[39m res_json[\u001b[38;5;124m'\u001b[39m\u001b[38;5;124mresponse\u001b[39m\u001b[38;5;124m'\u001b[39m][\u001b[38;5;124m'\u001b[39m\u001b[38;5;124mbody\u001b[39m\u001b[38;5;124m'\u001b[39m][\u001b[38;5;124m'\u001b[39m\u001b[38;5;124mitems\u001b[39m\u001b[38;5;124m'\u001b[39m]\n\u001b[0;32m    179\u001b[0m \u001b[38;5;28;01mif\u001b[39;00m \u001b[38;5;129;01mnot\u001b[39;00m items:\n",
      "\u001b[1;31mException\u001b[0m: SERVICE KEY IS NOT REGISTERED ERROR."
     ]
    }
   ],
   "source": [
    "# 특정 기간 자료 조회하기\n",
    "df = api.get_data(\n",
    "    property_type=\"아파트\",\n",
    "    trade_type=\"매매\",\n",
    "    sigungu_code=\"41135\",\n",
    "    start_year_month=\"202212\",\n",
    "    end_year_month=\"202301\",\n",
    "    )\n",
    "df.tail()"
   ]
  },
  {
   "cell_type": "code",
   "execution_count": null,
   "id": "c5a8266e",
   "metadata": {},
   "outputs": [],
   "source": [
    "# 서비스키 할당하기\n",
    "service_key = \"공공데이터포털에서 발급받은 서비스 키\"\n",
    "\n",
    "# 국토교통부 실거래가 조회 API 인스턴스 정의하기\n",
    "from PublicDataReader import TransactionPrice\n",
    "api = TransactionPrice(service_key)\n",
    "\n",
    "import PublicDataReader as pdr\n",
    "sigungu_name = \"분당구\"\n",
    "code = pdr.code_bdong()\n",
    "code.loc[(code['시군구명'].str.contains(sigungu_name)) &\n",
    "         (code['읍면동명']=='')]\n",
    "\n",
    "# 부동산 실거래가 조회하기\n",
    "# 특정 년월 자료만 조회하기\n",
    "df = api.get_data(\n",
    "    property_type=\"아파트\",\n",
    "    trade_type=\"매매\",\n",
    "    sigungu_code=\"41135\",\n",
    "    year_month=\"202212\",\n",
    "    )\n",
    "df.tail()\n",
    "\n",
    "# 특정 기간 자료 조회하기\n",
    "df = api.get_data(\n",
    "    property_type=\"아파트\",\n",
    "    trade_type=\"매매\",\n",
    "    sigungu_code=\"41135\",\n",
    "    start_year_month=\"202212\",\n",
    "    end_year_month=\"202301\",\n",
    "    )\n",
    "df.tail()\n",
    "\n",
    "\n",
    "\n",
    "\n",
    "# 데이터 조회 인스턴스 만들기\n",
    "from PublicDataReader import TransactionPrice\n",
    "api = TransactionPrice(service_key)\n",
    "\n",
    "# 시군구코드 조회하기\n",
    "import PublicDataReader as pdr\n",
    "sigungu_name = \"분당구\"\n",
    "code = pdr.code_bdong()\n",
    "code.loc[(code['시군구명'].str.contains(sigungu_name)) &\n",
    "         (code['읍면동명']=='')]\n",
    "\n",
    "# 특정 년월 자료만 조회하기\n",
    "df = api.get_data(\n",
    "    property_type=\"아파트\",\n",
    "    trade_type=\"매매\",\n",
    "    sigungu_code=\"41135\",\n",
    "    year_month=\"202212\",\n",
    "    )\n",
    "\n",
    "# 특정 기간 자료 조회하기\n",
    "df = api.get_data(\n",
    "    property_type=\"아파트\",\n",
    "    trade_type=\"매매\",\n",
    "    sigungu_code=\"41135\",\n",
    "    start_year_month=\"202212\",\n",
    "    end_year_month=\"202301\",\n",
    "    )"
   ]
  },
  {
   "cell_type": "code",
   "execution_count": null,
   "id": "8f9f4de6",
   "metadata": {},
   "outputs": [],
   "source": []
  },
  {
   "cell_type": "code",
   "execution_count": null,
   "id": "c7f47cbc",
   "metadata": {},
   "outputs": [],
   "source": []
  }
 ],
 "metadata": {
  "kernelspec": {
   "display_name": "Python 3 (ipykernel)",
   "language": "python",
   "name": "python3"
  },
  "language_info": {
   "codemirror_mode": {
    "name": "ipython",
    "version": 3
   },
   "file_extension": ".py",
   "mimetype": "text/x-python",
   "name": "python",
   "nbconvert_exporter": "python",
   "pygments_lexer": "ipython3",
   "version": "3.10.9"
  }
 },
 "nbformat": 4,
 "nbformat_minor": 5
}
